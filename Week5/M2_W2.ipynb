{
  "nbformat": 4,
  "nbformat_minor": 0,
  "metadata": {
    "colab": {
      "provenance": []
    },
    "kernelspec": {
      "name": "python3",
      "display_name": "Python 3"
    },
    "language_info": {
      "name": "python"
    }
  },
  "cells": [
    {
      "cell_type": "code",
      "source": [
        "!gdown 1i9dqan21DjQoG5Q_VEvm0LrVwAlXD0vB\n"
      ],
      "metadata": {
        "id": "L4YNc9Y_eCTF"
      },
      "execution_count": null,
      "outputs": []
    },
    {
      "cell_type": "code",
      "source": [
        "import matplotlib.image as mpimg\n",
        "import numpy as np\n",
        "\n",
        "img = mpimg.imread ('/content/dog.jpeg')\n",
        "gray_img_01 = (np.max(img, axis=2) + np.min(img, axis=2))/2\n",
        "gray_img_01[0,0]"
      ],
      "metadata": {
        "colab": {
          "base_uri": "https://localhost:8080/"
        },
        "id": "7OhJXDk4eNgd",
        "outputId": "b5a7ab32-60f0-46ac-b759-e65750f3789a"
      },
      "execution_count": 36,
      "outputs": [
        {
          "output_type": "execute_result",
          "data": {
            "text/plain": [
              "102.5"
            ]
          },
          "metadata": {},
          "execution_count": 36
        }
      ]
    },
    {
      "cell_type": "code",
      "source": [
        "import matplotlib.image as mpimg\n",
        "import numpy as np\n",
        "\n",
        "img = mpimg.imread ('/content/dog.jpeg')\n",
        "gray_img_01 = np.average(img, axis=2)\n",
        "gray_img_01[0,0]"
      ],
      "metadata": {
        "colab": {
          "base_uri": "https://localhost:8080/"
        },
        "id": "Gll7cLYxeNaS",
        "outputId": "d0cf54e3-d6e7-4556-885f-c16829574820"
      },
      "execution_count": 37,
      "outputs": [
        {
          "output_type": "execute_result",
          "data": {
            "text/plain": [
              "107.66666666666667"
            ]
          },
          "metadata": {},
          "execution_count": 37
        }
      ]
    },
    {
      "cell_type": "code",
      "source": [
        "import matplotlib.image as mpimg\n",
        "import numpy as np\n",
        "\n",
        "img = mpimg.imread ('/content/dog.jpeg')\n",
        "gray_img_01 = 0.21*img[:,:,0] + 0.72*img[:,:,1] + 0.07*img[:,:,2]\n",
        "gray_img_01[0,0]"
      ],
      "metadata": {
        "colab": {
          "base_uri": "https://localhost:8080/"
        },
        "id": "D3mEq4hOegzd",
        "outputId": "3cb0e53a-b99a-45fe-ea0c-e57083fb0357"
      },
      "execution_count": 38,
      "outputs": [
        {
          "output_type": "execute_result",
          "data": {
            "text/plain": [
              "126.22999999999999"
            ]
          },
          "metadata": {},
          "execution_count": 38
        }
      ]
    },
    {
      "cell_type": "code",
      "source": [
        "!gdown 1iA0WmVfW88HyJvTBSQDI5vesf-pgKabq"
      ],
      "metadata": {
        "colab": {
          "base_uri": "https://localhost:8080/"
        },
        "id": "2AImrj1iXUmY",
        "outputId": "b8b9b438-9a99-4eed-912a-531e88f9f9cd"
      },
      "execution_count": 10,
      "outputs": [
        {
          "output_type": "stream",
          "name": "stdout",
          "text": [
            "Downloading...\n",
            "From: https://drive.google.com/uc?id=1iA0WmVfW88HyJvTBSQDI5vesf-pgKabq\n",
            "To: /content/advertising.csv\n",
            "\r  0% 0.00/4.06k [00:00<?, ?B/s]\r100% 4.06k/4.06k [00:00<00:00, 11.4MB/s]\n"
          ]
        }
      ]
    },
    {
      "cell_type": "code",
      "execution_count": 13,
      "metadata": {
        "id": "9FdJW4aJWyZn"
      },
      "outputs": [],
      "source": [
        "import pandas as pd\n",
        "df = pd.read_csv('/content/advertising.csv')\n",
        "data = df.to_numpy()"
      ]
    },
    {
      "cell_type": "code",
      "source": [
        "import numpy as np"
      ],
      "metadata": {
        "id": "xOax1gI2aE2w"
      },
      "execution_count": 16,
      "outputs": []
    },
    {
      "cell_type": "code",
      "source": [
        "max = np.max(data[:,3],axis=0)\n",
        "index = np.where(data[:,3]==max)\n",
        "print(max,index)"
      ],
      "metadata": {
        "colab": {
          "base_uri": "https://localhost:8080/"
        },
        "id": "2tVemXX8XkqJ",
        "outputId": "a1da7ae2-e532-4bb4-f7bc-4ca8d747d95f"
      },
      "execution_count": 18,
      "outputs": [
        {
          "output_type": "stream",
          "name": "stdout",
          "text": [
            "27.0 (array([175]),)\n"
          ]
        }
      ]
    },
    {
      "cell_type": "code",
      "source": [
        "print(np.average(data[:,0],axis=0))"
      ],
      "metadata": {
        "colab": {
          "base_uri": "https://localhost:8080/"
        },
        "id": "JLn7f4JOaQ1y",
        "outputId": "8c63bb88-f9b7-4e44-be64-9a49990165b1"
      },
      "execution_count": 19,
      "outputs": [
        {
          "output_type": "stream",
          "name": "stdout",
          "text": [
            "147.0425\n"
          ]
        }
      ]
    },
    {
      "cell_type": "code",
      "source": [
        "print(np.size(data[data[:,3]>=20]))"
      ],
      "metadata": {
        "colab": {
          "base_uri": "https://localhost:8080/"
        },
        "id": "LJLBH8tsacE1",
        "outputId": "2d4ae5e8-c05e-4c01-bdfc-c94fbe6f2223"
      },
      "execution_count": 20,
      "outputs": [
        {
          "output_type": "stream",
          "name": "stdout",
          "text": [
            "160\n"
          ]
        }
      ]
    },
    {
      "cell_type": "code",
      "source": [
        "print(np.average(data[data[:,3]>=15][:,1]))"
      ],
      "metadata": {
        "colab": {
          "base_uri": "https://localhost:8080/"
        },
        "id": "0B1-sskrawnc",
        "outputId": "73ec2090-6346-4fbe-cffd-821c92a969dc"
      },
      "execution_count": 21,
      "outputs": [
        {
          "output_type": "stream",
          "name": "stdout",
          "text": [
            "26.22293577981651\n"
          ]
        }
      ]
    },
    {
      "cell_type": "code",
      "source": [
        "print(np.sum(data[data[:,2]>np.average(data[:,2])][:,3]))"
      ],
      "metadata": {
        "colab": {
          "base_uri": "https://localhost:8080/"
        },
        "id": "z_aqWZdMbE35",
        "outputId": "2927e826-39a5-49b7-90e4-35cbddaa9e7c"
      },
      "execution_count": 22,
      "outputs": [
        {
          "output_type": "stream",
          "name": "stdout",
          "text": [
            "1405.1\n"
          ]
        }
      ]
    },
    {
      "cell_type": "code",
      "source": [
        "min = np.min(np.abs(data[:,3]-np.average(data[:,3])))\n",
        "A = data[data[:,3] == np.average(data[:,3])+min][:,3]\n",
        "print(A)"
      ],
      "metadata": {
        "colab": {
          "base_uri": "https://localhost:8080/"
        },
        "id": "uEUNquZycN8i",
        "outputId": "9f3a1e6d-13db-4d2c-b683-de4b53f9f837"
      },
      "execution_count": 34,
      "outputs": [
        {
          "output_type": "stream",
          "name": "stdout",
          "text": [
            "[15.2]\n"
          ]
        }
      ]
    },
    {
      "cell_type": "code",
      "source": [
        "a = np.where(data[7:10,3]>A,'Good','Bad')\n",
        "a"
      ],
      "metadata": {
        "colab": {
          "base_uri": "https://localhost:8080/"
        },
        "id": "iHERacTsbdVU",
        "outputId": "2c7252f3-9a54-4b06-e16d-c0cd1ecf24f4"
      },
      "execution_count": 35,
      "outputs": [
        {
          "output_type": "execute_result",
          "data": {
            "text/plain": [
              "array(['Bad', 'Bad', 'Good'], dtype='<U4')"
            ]
          },
          "metadata": {},
          "execution_count": 35
        }
      ]
    }
  ]
}